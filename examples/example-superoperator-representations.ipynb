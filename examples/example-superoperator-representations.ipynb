{
 "metadata": {
  "name": ""
 },
 "nbformat": 3,
 "nbformat_minor": 0,
 "worksheets": [
  {
   "cells": [
    {
     "cell_type": "heading",
     "level": 1,
     "metadata": {},
     "source": [
      "QuTiP Example: Representations of Superoperators"
     ]
    },
    {
     "cell_type": "markdown",
     "metadata": {},
     "source": [
      "Frequently in quantum information processing, it is necessary to transform a quantum channel from one representation to another. QuTiP provides a series of convenience functions for this purpose. The available representations include:\n",
      "\n",
      "+ Kraus operators $\\left \\lbrace A_k \\right \\rbrace$ such that $\\sum_k A_k^{\\dagger} A_k = \\hat{I}$\n",
      "+ The Choi matrix: $\\Phi_{\\Lambda} = \\left[ \\Lambda \\otimes \\hat{I} \\right]\\left(\\left \\vert \\Omega \\right \\rangle \\! \\left \\langle \\Omega \\right \\vert \\right)$ where $\\left \\vert \\Omega \\right \\rangle \\equiv \\frac{1}{\\sqrt{d}}\\sum_{0}^{d-1}\\left \\vert d \\right \\rangle \\otimes \\left \\vert d \\right \\rangle$\n",
      "+ The Liouville operator $S_{\\Lambda}$ such that $S_{\\Lambda} \\textrm{col}(\\rho) = \\textrm{col}\\left( \\Lambda(\\rho)\\right)$\n",
      "\n",
      "We show these representations below, acting on a simple bit-flip channel:"
     ]
    },
    {
     "cell_type": "code",
     "collapsed": false,
     "input": [
      "from qutip import *\n",
      "import numpy as np"
     ],
     "language": "python",
     "metadata": {},
     "outputs": [],
     "prompt_number": 1
    },
    {
     "cell_type": "code",
     "collapsed": false,
     "input": [
      "bit_flip_matrix = lambda p: np.array([[1.-p, 0., 0., p],\n",
      "                                      [0., 1.-p, p, 0.],\n",
      "                                      [0., p, 1.-p, 0.],\n",
      "                                      [p, 0., 0., 1.-p]])\n",
      "bit_flip_channel = Qobj(bit_flip_matrix(0.33), type='super')\n",
      "print bit_flip_channel"
     ],
     "language": "python",
     "metadata": {},
     "outputs": [
      {
       "output_type": "stream",
       "stream": "stdout",
       "text": [
        "Quantum object: dims = [[4], [4]], shape = [4, 4], type = super, isherm = True\n",
        "Qobj data =\n",
        "[[ 0.67  0.    0.    0.33]\n",
        " [ 0.    0.67  0.33  0.  ]\n",
        " [ 0.    0.33  0.67  0.  ]\n",
        " [ 0.33  0.    0.    0.67]]\n"
       ]
      }
     ],
     "prompt_number": 7
    },
    {
     "cell_type": "code",
     "collapsed": false,
     "input": [
      "bit_flip_choi_matrix = super_to_choi(bit_flip_channel)\n",
      "print bit_flip_choi_matrix"
     ],
     "language": "python",
     "metadata": {},
     "outputs": [
      {
       "output_type": "stream",
       "stream": "stdout",
       "text": [
        "Quantum object: dims = [[4], [4]], shape = [4, 4], type = oper, isherm = True\n",
        "Qobj data =\n",
        "[[ 0.67  0.    0.    0.67]\n",
        " [ 0.    0.33  0.33  0.  ]\n",
        " [ 0.    0.33  0.33  0.  ]\n",
        " [ 0.67  0.    0.    0.67]]\n"
       ]
      }
     ],
     "prompt_number": 6
    },
    {
     "cell_type": "code",
     "collapsed": false,
     "input": [
      "bit_flip_kraus_operators = choi_to_kraus(bit_flip_choi_matrix)\n",
      "print bit_flip_kraus_operators"
     ],
     "language": "python",
     "metadata": {},
     "outputs": [
      {
       "output_type": "stream",
       "stream": "stdout",
       "text": [
        "[Quantum object: dims = [[2], [2]], shape = [2, 2], type = oper, isherm = True\n",
        "Qobj data =\n",
        "[[ 0.81853528  0.        ]\n",
        " [ 0.          0.81853528]], Quantum object: dims = [[2], [2]], shape = [2, 2], type = oper, isherm = True\n",
        "Qobj data =\n",
        "[[ 0.  0.]\n",
        " [ 0.  0.]], Quantum object: dims = [[2], [2]], shape = [2, 2], type = oper, isherm = True\n",
        "Qobj data =\n",
        "[[ 0.          0.57445626]\n",
        " [ 0.57445626  0.        ]], Quantum object: dims = [[2], [2]], shape = [2, 2], type = oper, isherm = True\n",
        "Qobj data =\n",
        "[[ 0. +0.00000000e+00j  0. +7.11402031e-17j]\n",
        " [ 0. -7.11402031e-17j  0. +0.00000000e+00j]]]\n"
       ]
      }
     ],
     "prompt_number": 9
    },
    {
     "cell_type": "code",
     "collapsed": false,
     "input": [
      "sum([a.dag()*a for a in bit_flip_kraus_operators])"
     ],
     "language": "python",
     "metadata": {},
     "outputs": [
      {
       "latex": [
        "$\\text{Quantum object: dims = [[2], [2]], shape = [2, 2], type = oper, isHerm = True}\\\\[1em]\\begin{pmatrix}1.000 & 0.0\\\\0.0 & 1.000\\\\\\end{pmatrix}$"
       ],
       "metadata": {},
       "output_type": "pyout",
       "prompt_number": 10,
       "text": [
        "Quantum object: dims = [[2], [2]], shape = [2, 2], type = oper, isherm = True\n",
        "Qobj data =\n",
        "[[ 1.  0.]\n",
        " [ 0.  1.]]"
       ]
      }
     ],
     "prompt_number": 10
    },
    {
     "cell_type": "heading",
     "level": 2,
     "metadata": {},
     "source": [
      "Versions"
     ]
    },
    {
     "cell_type": "code",
     "collapsed": false,
     "input": [
      "from qutip.ipynbtools import version_table\n",
      "\n",
      "version_table()"
     ],
     "language": "python",
     "metadata": {},
     "outputs": [
      {
       "html": [
        "<table><tr><th>Software</th><th>Version</th></tr><tr><td>Cython</td><td>0.19</td></tr><tr><td>SciPy</td><td>0.12.0</td></tr><tr><td>QuTiP</td><td>3.0.0.dev-dadbff8</td></tr><tr><td>Python</td><td>2.7.5+ (default, Sep 19 2013, 13:48:49) \n",
        "[GCC 4.8.1]</td></tr><tr><td>IPython</td><td>1.0.0</td></tr><tr><td>OS</td><td>posix [linux2]</td></tr><tr><td>Numpy</td><td>1.8.0</td></tr><tr><td>matplotlib</td><td>1.2.1</td></tr><tr><td colspan='2'>Mon Mar 03 17:38:40 2014 CET</td></tr></table>"
       ],
       "metadata": {},
       "output_type": "pyout",
       "prompt_number": 1,
       "text": [
        "<IPython.core.display.HTML at 0x20c02d0>"
       ]
      }
     ],
     "prompt_number": 1
    }
   ],
   "metadata": {}
  }
 ]
}